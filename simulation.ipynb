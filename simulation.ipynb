{
  "cells": [
    {
      "cell_type": "code",
      "source": [
        "!pip install pyvista\n",
        "!python -m pip install petsc petsc4py\n",
        "!pip install numpy\n",
        "!pip install ufl\n",
        "#Build Dolfinx\n",
        "!pip install git+https://github.com/FEniCS/dolfinx.git\n"
      ],
      "metadata": {
        "colab": {
          "base_uri": "https://localhost:8080/"
        },
        "id": "eji0urJ7_2RH",
        "outputId": "126c5959-8329-478a-aea3-bdbf2fc3a135"
      },
      "id": "eji0urJ7_2RH",
      "execution_count": null,
      "outputs": [
        {
          "output_type": "stream",
          "name": "stdout",
          "text": [
            "Collecting pyvista\n",
            "  Downloading pyvista-0.45.3-py3-none-any.whl.metadata (15 kB)\n",
            "Requirement already satisfied: matplotlib>=3.0.1 in /usr/local/lib/python3.11/dist-packages (from pyvista) (3.10.0)\n",
            "Requirement already satisfied: numpy>=1.21.0 in /usr/local/lib/python3.11/dist-packages (from pyvista) (2.0.2)\n",
            "Requirement already satisfied: pillow in /usr/local/lib/python3.11/dist-packages (from pyvista) (11.3.0)\n",
            "Requirement already satisfied: pooch in /usr/local/lib/python3.11/dist-packages (from pyvista) (1.8.2)\n",
            "Requirement already satisfied: scooby>=0.5.1 in /usr/local/lib/python3.11/dist-packages (from pyvista) (0.10.1)\n",
            "Requirement already satisfied: typing-extensions in /usr/local/lib/python3.11/dist-packages (from pyvista) (4.14.1)\n",
            "Collecting vtk!=9.4.0 (from pyvista)\n",
            "  Downloading vtk-9.5.0-cp311-cp311-manylinux2014_x86_64.manylinux_2_17_x86_64.whl.metadata (5.5 kB)\n",
            "  Downloading vtk-9.4.2-cp311-cp311-manylinux_2_17_x86_64.manylinux2014_x86_64.whl.metadata (5.5 kB)\n",
            "Requirement already satisfied: contourpy>=1.0.1 in /usr/local/lib/python3.11/dist-packages (from matplotlib>=3.0.1->pyvista) (1.3.3)\n",
            "Requirement already satisfied: cycler>=0.10 in /usr/local/lib/python3.11/dist-packages (from matplotlib>=3.0.1->pyvista) (0.12.1)\n",
            "Requirement already satisfied: fonttools>=4.22.0 in /usr/local/lib/python3.11/dist-packages (from matplotlib>=3.0.1->pyvista) (4.59.0)\n",
            "Requirement already satisfied: kiwisolver>=1.3.1 in /usr/local/lib/python3.11/dist-packages (from matplotlib>=3.0.1->pyvista) (1.4.8)\n",
            "Requirement already satisfied: packaging>=20.0 in /usr/local/lib/python3.11/dist-packages (from matplotlib>=3.0.1->pyvista) (25.0)\n",
            "Requirement already satisfied: pyparsing>=2.3.1 in /usr/local/lib/python3.11/dist-packages (from matplotlib>=3.0.1->pyvista) (3.2.3)\n",
            "Requirement already satisfied: python-dateutil>=2.7 in /usr/local/lib/python3.11/dist-packages (from matplotlib>=3.0.1->pyvista) (2.9.0.post0)\n",
            "Requirement already satisfied: platformdirs>=2.5.0 in /usr/local/lib/python3.11/dist-packages (from pooch->pyvista) (4.3.8)\n",
            "Requirement already satisfied: requests>=2.19.0 in /usr/local/lib/python3.11/dist-packages (from pooch->pyvista) (2.32.3)\n",
            "Requirement already satisfied: six>=1.5 in /usr/local/lib/python3.11/dist-packages (from python-dateutil>=2.7->matplotlib>=3.0.1->pyvista) (1.17.0)\n",
            "Requirement already satisfied: charset-normalizer<4,>=2 in /usr/local/lib/python3.11/dist-packages (from requests>=2.19.0->pooch->pyvista) (3.4.2)\n",
            "Requirement already satisfied: idna<4,>=2.5 in /usr/local/lib/python3.11/dist-packages (from requests>=2.19.0->pooch->pyvista) (3.10)\n",
            "Requirement already satisfied: urllib3<3,>=1.21.1 in /usr/local/lib/python3.11/dist-packages (from requests>=2.19.0->pooch->pyvista) (2.5.0)\n",
            "Requirement already satisfied: certifi>=2017.4.17 in /usr/local/lib/python3.11/dist-packages (from requests>=2.19.0->pooch->pyvista) (2025.7.14)\n",
            "Downloading pyvista-0.45.3-py3-none-any.whl (2.4 MB)\n",
            "\u001b[2K   \u001b[90m━━━━━━━━━━━━━━━━━━━━━━━━━━━━━━━━━━━━━━━━\u001b[0m \u001b[32m2.4/2.4 MB\u001b[0m \u001b[31m22.8 MB/s\u001b[0m eta \u001b[36m0:00:00\u001b[0m\n",
            "\u001b[?25hDownloading vtk-9.4.2-cp311-cp311-manylinux_2_17_x86_64.manylinux2014_x86_64.whl (105.0 MB)\n",
            "\u001b[2K   \u001b[90m━━━━━━━━━━━━━━━━━━━━━━━━━━━━━━━━━━━━━━━━\u001b[0m \u001b[32m105.0/105.0 MB\u001b[0m \u001b[31m8.7 MB/s\u001b[0m eta \u001b[36m0:00:00\u001b[0m\n",
            "\u001b[?25hInstalling collected packages: vtk, pyvista\n",
            "Successfully installed pyvista-0.45.3 vtk-9.4.2\n",
            "Collecting petsc\n",
            "  Downloading petsc-3.23.5.tar.gz (16.1 MB)\n",
            "\u001b[2K     \u001b[90m━━━━━━━━━━━━━━━━━━━━━━━━━━━━━━━━━━━━━━━━\u001b[0m \u001b[32m16.1/16.1 MB\u001b[0m \u001b[31m44.7 MB/s\u001b[0m eta \u001b[36m0:00:00\u001b[0m\n",
            "\u001b[?25h  Installing build dependencies ... \u001b[?25l\u001b[?25hdone\n",
            "  Getting requirements to build wheel ... \u001b[?25l\u001b[?25hdone\n",
            "  Preparing metadata (pyproject.toml) ... \u001b[?25l\u001b[?25hdone\n",
            "Collecting petsc4py\n",
            "  Downloading petsc4py-3.23.5.tar.gz (441 kB)\n",
            "\u001b[2K     \u001b[90m━━━━━━━━━━━━━━━━━━━━━━━━━━━━━━━━━━━━━━\u001b[0m \u001b[32m442.0/442.0 kB\u001b[0m \u001b[31m23.5 MB/s\u001b[0m eta \u001b[36m0:00:00\u001b[0m\n",
            "\u001b[?25h  Installing build dependencies ... \u001b[?25l\u001b[?25hdone\n",
            "  Getting requirements to build wheel ... \u001b[?25l\u001b[?25hdone\n"
          ]
        }
      ]
    },
    {
      "cell_type": "code",
      "execution_count": null,
      "id": "1",
      "metadata": {
        "id": "1"
      },
      "outputs": [],
      "source": [
        "from mpi4py import MPI\n",
        "from petsc4py import PETSc\n",
        "import numpy as np\n",
        "import pyvista as pv\n",
        "from pyvista import examples\n",
        "\n",
        "from dolfinx.fem import Constant, Function, functionspace, assemble_scalar, dirichletbc, form, locate_dofs_geometrical, solve\n",
        "from dolfinx.fem.petsc import assemble_matrix, assemble_vector, apply_lifting, create_vector, set_bc, LinearProblem, NonlinearProblem\n",
        "from dolfinx.nls.petsc import NewtonSolver\n",
        "from dolfinx.io import VTXWriter\n",
        "from dolfinx.mesh import create_unit_square, CellType\n",
        "from dolfinx.plot import vtk_mesh\n",
        "from basix.ufl import element\n",
        "from ufl import (FacetNormal, Identity, TestFunction, TrialFunction,\n",
        "                 div, dot, ds, dx, inner, lhs, nabla_grad, rhs, sym, grad)\n",
        "import numpy as np\n",
        "\n",
        "import matplotlib.pyplot as plt"
      ]
    },
    {
      "cell_type": "code",
      "execution_count": null,
      "id": "ec17df1b-fb29-42d5-847e-db89a148cce7",
      "metadata": {
        "id": "ec17df1b-fb29-42d5-847e-db89a148cce7"
      },
      "outputs": [],
      "source": [
        "X_POINTS = 50\n",
        "Y_POINTS = 50\n",
        "mesh = create_unit_square(MPI.COMM_WORLD, X_POINTS, Y_POINTS, CellType.quadrilateral)\n",
        "\n",
        "T = 1\n",
        "STEPS = 500\n",
        "dt = T/STEPS\n",
        "err=1e-8"
      ]
    },
    {
      "cell_type": "markdown",
      "id": "2",
      "metadata": {
        "id": "2"
      },
      "source": [
        "**References**\n",
        "```{bibliography}\n",
        ":filter: docname in docnames\n",
        "```"
      ]
    },
    {
      "cell_type": "code",
      "execution_count": null,
      "id": "3",
      "metadata": {
        "id": "3"
      },
      "outputs": [],
      "source": [
        "v_cg2 = element(\"Lagrange\", mesh.topology.cell_name(), 2, shape=(mesh.geometry.dim, ))\n",
        "heat_func_space = functionspace(mesh, v_cg2)"
      ]
    },
    {
      "cell_type": "code",
      "execution_count": null,
      "id": "d979d98c-1c31-4228-9cd2-140dc70a2be8",
      "metadata": {
        "id": "d979d98c-1c31-4228-9cd2-140dc70a2be8"
      },
      "outputs": [],
      "source": [
        "u = TrialFunction(heat_func_space)\n",
        "v_test = TestFunction(heat_func_space)"
      ]
    },
    {
      "cell_type": "code",
      "source": [
        "#Starter function\n",
        "def add_func(t):\n",
        "  return 1"
      ],
      "metadata": {
        "id": "vo6_GAJlzctr"
      },
      "id": "vo6_GAJlzctr",
      "execution_count": null,
      "outputs": []
    },
    {
      "cell_type": "code",
      "execution_count": null,
      "id": "30649935-dfd1-4755-bc7c-7cb323ea5669",
      "metadata": {
        "id": "30649935-dfd1-4755-bc7c-7cb323ea5669"
      },
      "outputs": [],
      "source": [
        "#Boundry Conditions\n",
        "\n",
        "def on_boundry(point):\n",
        "  return np.allclose(point, (0.0, point[1]), rtol=err) or np.allclose(point, (1.0, point[1])) or np.allclose(point, (point[0], 0.0)) or np.allclose(point, (point[0], 1.0))\n",
        "# Locate degrees of freedoon the boundary\n",
        "dofs = locate_dofs_geometrical(heat_func_space, on_boundry)\n",
        "val = Constant(mesh, PETSc.ScalarType((0.0, 0.0)))\n",
        "bc = dirichletbc(val, dofs, heat_func_space)\n",
        "\n",
        "\"\"\"\n",
        "dofs1 = locate_dofs_geometrical(v_func_space, on_left_boundary)\n",
        "val = Constant(mesh, PETSc.ScalarType((1.0, 0.0)))\n",
        "left_bc = dirichletbc(val, dofs1, v_func_space)\n",
        "\n",
        "dofs2 = locate_dofs_geometrical(v_func_space, lower_boundry)\n",
        "val2 = Constant(mesh, PETSc.ScalarType((0.0, 0.0)))\n",
        "lower_bc = dirichletbc(val2, dofs2, v_func_space)\n",
        "\n",
        "dofs3 = locate_dofs_geometrical(v_func_space, upper_boundry)\n",
        "val3 = Constant(mesh, PETSc.ScalarType((0.0, 0.0)))\n",
        "higher_bc = dirichletbc(val3, dofs3, v_func_space)\n",
        "velocity_boundry_conditions = [left_bc, lower_bc, higher_bc]\n",
        "\"\"\""
      ]
    },
    {
      "cell_type": "code",
      "execution_count": null,
      "id": "c13feb4b",
      "metadata": {
        "id": "c13feb4b"
      },
      "outputs": [],
      "source": [
        "# Define 3D grid points\n",
        "x_vals = np.linspace(0, 1, X_POINTS)\n",
        "y_vals = np.linspace(0, 1, Y_POINTS)\n",
        "\n",
        "z_vals = np.array(curve_data)\n",
        "x, y, z = np.meshgrid(x_vals, y_vals, z_vals, indexing='ij')\n",
        "\n",
        "#Flatten For x,y,z\n",
        "\n",
        "x_flat = x.ravel()\n",
        "y_flat = y.ravel()\n",
        "z_flat = z.ravel()\n",
        "\n",
        "#F(x, y, z) = (u, v, w) where u,v,w = Combination(x_flat, y_flat, z_flat, +, -, * /)\n",
        "u = x_flat\n",
        "v = y_flat\n",
        "w = z_flat"
      ]
    },
    {
      "cell_type": "code",
      "execution_count": null,
      "id": "18feb281-98e5-464c-b0f0-df40a6a57cdd",
      "metadata": {
        "id": "18feb281-98e5-464c-b0f0-df40a6a57cdd"
      },
      "outputs": [],
      "source": [
        "## Stack point coordinates\n",
        "points = np.stack((x_flat, y_flat, z_flat), axis=1)\n",
        "\n",
        "# Create a PyVista point cloud\n",
        "point_cloud = pv.PolyData(points)\n",
        "#for variable vectors\n",
        "vectors = np.stack((u, v, w), axis=1)\n",
        "#for const\n",
        "#vectors = np.tile([1, 1, 0], (len(u), 1))\n",
        "#point_cloud[\"vectors\"] = vectors  # Attach vector data Use glyphs to create arrows representing the vector field\n",
        "#arrows = point_cloud.glyph(orient=\"vectors\", scale=\"vectors\", factor=0.05)"
      ]
    },
    {
      "cell_type": "code",
      "execution_count": null,
      "id": "752ed730-dfe4-4eb5-b29a-473759c33117",
      "metadata": {
        "id": "752ed730-dfe4-4eb5-b29a-473759c33117"
      },
      "outputs": [],
      "source": [
        "#Prepare mesh for visualization\n",
        "mesh.topology.create_connectivity(mesh.topology.dim, mesh.topology.dim)\n",
        "\n",
        "\"\"\"\n",
        "Just gets mesh\n",
        "\"\"\"\n",
        "cells, cell_types, points = vtk_mesh(mesh, mesh.topology.dim)\n",
        "for i in range(len(cell_types)):\n",
        "    cell_types[i]=9\n",
        "grid = pv.UnstructuredGrid(cells, cell_types, points)\n",
        "\n",
        "curve_data = []\n",
        "for x in range(X_POINTS+1):\n",
        "    for y in range(Y_POINTS+1):\n",
        "        val1 = (x/(X_POINTS+1))**2\n",
        "        val2 = (1 - ((x/(X_POINTS+1))))**2\n",
        "        curve_data.append(np.sqrt(val1 + val2))\n",
        "\n",
        "grid.point_data[\"curves\"] = np.array(curve_data)\n",
        "grid.set_active_scalars(\"curves\")\n",
        "\n",
        "warped = grid.warp_by_scalar(\"curves\")"
      ]
    },
    {
      "cell_type": "code",
      "execution_count": null,
      "id": "26a15aff",
      "metadata": {
        "id": "26a15aff"
      },
      "outputs": [],
      "source": [
        "# Plot\n",
        "pv.start_xvfb()  # Starts a virtual framebuffer if needed\n",
        "plotter = pv.Plotter(off_screen=True)\n",
        "plotter.open_gif(\"heat_manifold.gif\")\n",
        "\n",
        "#time steps loop\n",
        "u_next = Function(heat_func_space)\n",
        "u_n = Function(heat_func_space)\n",
        "for t in range(STEPS):\n",
        "  u_new = Function(heat_func_space)\n",
        "  lhs = (1/dt) * u * v_test * dx + dot(grad(u), grad(v_test)) * dx\n",
        "  rhs = (1/dt) * u_n * v_test * dx + add_func(t/STEPS) * v_test * dx\n",
        "  solve(lhs == rhs, u_next, bcs=bc)\n",
        "  u_n.assign(u_new)\n",
        "\n",
        "  #Clear Frame\n",
        "  plotter.clear()\n",
        "  #Add Mesh to Plotter\n",
        "  plotter.add_mesh(warped, scalars=\"u\", cmap=\"coolwarm\", clim=[0, 1])\n",
        "  #Add T =\n",
        "  plotter.add_text(f\"Time: {t/STEPS:.2f}\", font_size=10)\n",
        "  #Save Frame\n",
        "  plotter.write_frame()\n",
        "plotter.close()\n",
        "\n",
        "#added_mesh = plotter.add_mesh(arrows)\n"
      ]
    },
    {
      "cell_type": "code",
      "execution_count": null,
      "id": "4d299212",
      "metadata": {
        "id": "4d299212"
      },
      "outputs": [],
      "source": [
        "manifold = plotter.add_mesh(warped, edge_color=\"#000000\", color=\"#FFFFFF\" show_edges=True, show_scalar_bar=True)\n",
        "pic = plotter.screenshot(\"manifold.png\")  # Save to image file\n",
        "plt.imshow(plotter.image)\n",
        "plt.show()"
      ]
    }
  ],
  "metadata": {
    "kernelspec": {
      "display_name": "Python 3 (ipykernel)",
      "language": "python",
      "name": "python3"
    },
    "language_info": {
      "codemirror_mode": {
        "name": "ipython",
        "version": 3
      },
      "file_extension": ".py",
      "mimetype": "text/x-python",
      "name": "python",
      "nbconvert_exporter": "python",
      "pygments_lexer": "ipython3",
      "version": "3.12.3"
    },
    "colab": {
      "provenance": []
    }
  },
  "nbformat": 4,
  "nbformat_minor": 5
}